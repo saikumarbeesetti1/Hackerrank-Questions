{
  "cells": [
    {
      "cell_type": "code",
      "source": [],
      "metadata": {
        "id": "LLtDyn9kAuBe"
      },
      "execution_count": null,
      "outputs": []
    },
    {
      "cell_type": "markdown",
      "source": [
        "# The provided code stub will read in a dictionary containing key/value pairs of name:[marks] for a list of students. Print the average of the marks array for the student name provided, showing 2 places after the decimal.\n",
        "Example\n",
        "The query_name is 'beta'. beta's average score is .\n",
        "Input Format\n",
        "The first line contains the integer , the number of students' records. The next  lines contain the names and marks obtained by a student, each value separated by a space. The final line contains query_name, the name of a student to query.\n",
        "\n",
        "Constraints\n",
        "Output Format\n",
        "Print one line: The average of the marks obtained by the particular student correct to 2 decimal places.\n",
        "\n",
        "Sample Input 0\n",
        "3\n",
        "Krishna 67 68 69\n",
        "Arjun 70 98 63\n",
        "Malika 52 56 60\n",
        "Malika\n",
        "\n",
        "Sample Output 0\n",
        "56.00\n",
        "\n",
        "\n",
        "Explanation 0\n",
        "Marks for Malika are  whose average is \n",
        "\n",
        "Sample Input 1\n",
        "2\n",
        "Harsh 25 26.5 28\n",
        "Anurag 26 28 30\n",
        "Harsh\n",
        "\n",
        "Sample Output 1\n",
        "26.50\"\"\""
      ],
      "metadata": {
        "id": "Lm19qEA7maF_"
      }
    },
    {
      "cell_type": "code",
      "source": [
        "n = int(input(\"Enter the number of students : \"))\n",
        "students = {}\n",
        "for _ in range(n):\n",
        "  line = input(\"Enter the name of student and their marks : \").split()\n",
        "  name,scores = line[0],line[1:]\n",
        "  scores = map(float,scores)\n",
        "  students[name]=scores  \n",
        "query_name = input(\"Enter the student name : \")\n",
        "marks = 0\n",
        "  \n",
        "for i in students[query_name]:\n",
        "  marks =marks+i\n",
        "avg = float()\n",
        "avg = marks/3\n",
        "print(\"The percentage of student name : \",\"\\n\",\"_\"*40)\n",
        "print()\n",
        "print(\"The average : \",\"%.2f\"%avg)"
      ],
      "metadata": {
        "colab": {
          "base_uri": "https://localhost:8080/"
        },
        "id": "BFfbRzCMl3Ja",
        "outputId": "1618eb07-679e-4965-8670-02dd91d8db81"
      },
      "execution_count": null,
      "outputs": [
        {
          "output_type": "stream",
          "name": "stdout",
          "text": [
            "Enter the number of students : 1\n",
            "Enter the name of student and their marks : sai 20 30 40\n",
            "Enter the student name : sai\n",
            "The percentage of student name :  \n",
            " ________________________________________\n",
            "\n",
            "The average :  30.00\n"
          ]
        }
      ]
    },
    {
      "cell_type": "code",
      "source": [],
      "metadata": {
        "id": "L0CrwMJqq4Nu"
      },
      "execution_count": null,
      "outputs": []
    },
    {
      "cell_type": "markdown",
      "source": [
        "# In Python, a string can be split on a delimiter.\n",
        "\n",
        "Example:\n",
        "\n",
        ">>> a = \"this is a string\"\n",
        ">>> a = a.split(\" \") # a is converted to a list of strings. \n",
        ">>> print a\n",
        "['this', 'is', 'a', 'string']\n",
        "Joining a string is simple:\n",
        "\n",
        ">>> a = \"-\".join(a)\n",
        ">>> print a\n",
        "this-is-a-string \n",
        "Task\n",
        "You are given a string. Split the string on a \" \" (space) delimiter and join using a - hyphen.\n",
        "\n",
        "Function Description\n",
        "\n",
        "Complete the split_and_join function in the editor below.\n",
        "\n",
        "split_and_join has the following parameters:\n",
        "\n",
        "string line: a string of space-separated words\n",
        "Returns\n",
        "\n",
        "string: the resulting string\n",
        "Input Format\n",
        "The one line contains a string consisting of space separated words.\n",
        "\n",
        "Sample Input"
      ],
      "metadata": {
        "id": "XCYJENjAmd0e"
      }
    },
    {
      "cell_type": "code",
      "source": [
        "def split_and_join(line):\n",
        "    a = line.split(\" \")\n",
        "    a = \"-\".join(a)\n",
        "    return a\n",
        "\n",
        "line = input()\n",
        "result = split_and_join(line)\n",
        "print(result)"
      ],
      "metadata": {
        "colab": {
          "base_uri": "https://localhost:8080/"
        },
        "id": "I7xU_e5ll3OF",
        "outputId": "e8a0e83e-1fcc-40d3-b6f0-7e5ac98443a1"
      },
      "execution_count": null,
      "outputs": [
        {
          "output_type": "stream",
          "name": "stdout",
          "text": [
            "This is a string\n",
            "This-is-a-string\n"
          ]
        }
      ]
    },
    {
      "cell_type": "markdown",
      "source": [
        "# .intersection()\n",
        "The .intersection() operator returns the intersection of a set and the set of elements in an iterable.\n",
        "Sometimes, the & operator is used in place of the .intersection() operator, but it only operates on the set of\n",
        "elements in set.\n",
        "The set is immutable to the .intersection() operation (or & operation).\n",
        ">>> s = set(\"Hacker\")\n",
        ">>> print s.intersection(\"Rank\")\n",
        "set(['a', 'k'])\n",
        ">>> print s.intersection(set(['R', 'a', 'n', 'k']))\n",
        "set(['a', 'k'])\n",
        ">>> print s.intersection(['R', 'a', 'n', 'k'])\n",
        "set(['a', 'k'])\n",
        ">>> print s.intersection(enumerate(['R', 'a', 'n', 'k']))\n",
        "set([])\n",
        ">>> print s.intersection({\"Rank\":1})\n",
        "set([])\n",
        ">>> s & set(\"Rank\")\n",
        "set(['a', 'k'])\n",
        "Task\n",
        "The students of District College have subscriptions to English and French newspapers. Some students have\n",
        "subscribed only to English, some have subscribed only to French, and some have subscribed to both\n",
        "newspapers.\n",
        "You are given two sets of student roll numbers. One set has subscribed to the English newspaper, one set\n",
        "has subscribed to the French newspaper. Your task is to find the total number of students who have\n",
        "subscribed to both newspapers.\n",
        "Input Format\n",
        "The first line contains , the number of students who have subscribed to the English newspaper.\n",
        "The second line contains space separated roll numbers of those students.\n",
        "The third line contains , the number of students who have subscribed to the French newspaper.\n",
        "The fourth line contains space separated roll numbers of those students.\n",
        "Constraints\n",
        "Output Format\n",
        "Output the total number of students who have subscriptions to both English and French newspapers.\n",
        "Sample Input\n",
        "9\n",
        "1 2 3 4 5 6 7 8 9\n",
        "9\n",
        "10 1 2 3 11 21 55 6 8\n",
        "Sample Output\n",
        "5\n",
        "Explanation\n",
        "The roll numbers of students who have both subscriptions:\n",
        "and .\n",
        "Hence, the total is students."
      ],
      "metadata": {
        "id": "MUU-gS0PtjYY"
      }
    },
    {
      "cell_type": "code",
      "source": [
        "# Enter your code here. Read input from STDIN. Print output to STDOUT \n",
        "# Enter your code here. Read input from STDIN. Print output to STDOUT \n",
        "num = int(input(\"no od stu : \"))\n",
        "count = 0\n",
        "number_of_roll_numbers = int(input(\"Enter the number of roll numbers : \"))\n",
        "for i in range(number_of_roll_numbers+1):\n",
        "    roll_no = i\n",
        "french_sub = int(input(\"french sub : \"))\n",
        "enter_rool_no = input(\"roll no : \").split(\" \")\n",
        "enter_rool_no =map(int,enter_rool_no)\n",
        "for j in (enter_rool_no):\n",
        "  for k in range(french_sub):\n",
        "    if j==k:\n",
        "      count +=1\n",
        "print(count)\n"
      ],
      "metadata": {
        "id": "RGrYh5Xel3YG",
        "colab": {
          "base_uri": "https://localhost:8080/"
        },
        "outputId": "ec586810-e116-4c7f-fd1e-245fedbb4e97"
      },
      "execution_count": null,
      "outputs": [
        {
          "output_type": "stream",
          "name": "stdout",
          "text": [
            "no od stu : 9\n",
            "Enter the number of roll numbers : 9\n",
            "french sub : 9\n",
            "roll no : 11 2 33 4 55 6 77 8 99 0\n",
            "5\n"
          ]
        }
      ]
    },
    {
      "cell_type": "code",
      "source": [
        "num = int(input())\n",
        "roll_numbers = set(map(int,input().split(\" \")))\n",
        "\n",
        "french_stu = int(input())\n",
        "french_stu_r_n = set(map(int,input().split(\" \")))\n",
        "\n",
        "print(len(roll_numbers.union(french_stu_r_n)))\n"
      ],
      "metadata": {
        "id": "lKvYgQGtl3Zx",
        "colab": {
          "base_uri": "https://localhost:8080/"
        },
        "outputId": "5d0fe672-1fd1-49c4-d40a-b9e42945ac49"
      },
      "execution_count": null,
      "outputs": [
        {
          "output_type": "stream",
          "name": "stdout",
          "text": [
            "9\n",
            "1 2 3 4 5 6 7 8 9\n",
            "9\n",
            "11 2 33 4 55 6 77 8 99 0\n",
            "15\n"
          ]
        }
      ]
    },
    {
      "cell_type": "markdown",
      "source": [
        "# Given the participants' score sheet for your University Sports Day, you are required to find the runner-up score. You are given  scores. Store them in a list and find the score of the runner-up.\n",
        "\n",
        "Input Format\n",
        "\n",
        "The first line contains . The second line contains an array   of  integers each separated by a space.\n",
        "\n",
        "Constraints\n",
        "\n",
        "Output Format\n",
        "\n",
        "Print the runner-up score.\n",
        "\n",
        "Sample Input 0\n",
        "\n",
        "5\n",
        "2 3 6 6 5\n",
        "Sample Output 0\n",
        "\n",
        "5"
      ],
      "metadata": {
        "id": "45wLOhmXDhUR"
      }
    },
    {
      "cell_type": "code",
      "source": [
        "if __name__ == '__main__':\n",
        "    def functon(op):\n",
        "        n = int(input())\n",
        "        a = list(map(int, input().split()))\n",
        "        a.sort()\n",
        "        for i in a :\n",
        "            while a[-1] == i:\n",
        "                del a[-1]\n",
        "            op = a\n",
        "            return max(op)\n",
        "functon(op)"
      ],
      "metadata": {
        "id": "zVYQePIPl3fg",
        "colab": {
          "base_uri": "https://localhost:8080/"
        },
        "outputId": "4089af48-3830-46d4-a2ee-3f0c52689a44"
      },
      "execution_count": null,
      "outputs": [
        {
          "name": "stdout",
          "output_type": "stream",
          "text": [
            "5\n",
            "1 2 6 5 6\n"
          ]
        },
        {
          "output_type": "execute_result",
          "data": {
            "text/plain": [
              "6"
            ]
          },
          "metadata": {},
          "execution_count": 102
        }
      ]
    },
    {
      "cell_type": "code",
      "source": [
        "def functon(op):\n",
        "  n = int(input())\n",
        "  a = list(map(int, input().split()))\n",
        "  a.sort()\n",
        "  for i in a :\n",
        "    while a[-1] == i:\n",
        "      del i\n",
        "      op = a\n",
        "    return max(op)\n",
        "functon(op)"
      ],
      "metadata": {
        "id": "lOvKMU_al3g4",
        "colab": {
          "base_uri": "https://localhost:8080/"
        },
        "outputId": "6e20c7cb-49eb-47a3-8f2b-016e601ce840"
      },
      "execution_count": null,
      "outputs": [
        {
          "name": "stdout",
          "output_type": "stream",
          "text": [
            "5 \n",
            "1 2 6 5 6\n"
          ]
        },
        {
          "output_type": "execute_result",
          "data": {
            "text/plain": [
              "5"
            ]
          },
          "metadata": {},
          "execution_count": 109
        }
      ]
    },
    {
      "cell_type": "code",
      "source": [
        "if __name__ == '__main__':\n",
        "    n = int(input())\n",
        "    arr = map(int, input().split())\n",
        "\n",
        "    lst = list(arr)\n",
        "    scores = list()\n",
        "\n",
        "    for i in lst:\n",
        "        if i not in scores:\n",
        "            scores.append(i)\n",
        "        else :\n",
        "            continue\n",
        "    ordr = sorted(scores, reverse=True)\n",
        "    print(ordr[1])"
      ],
      "metadata": {
        "id": "4S7PL14ul3iY",
        "colab": {
          "base_uri": "https://localhost:8080/"
        },
        "outputId": "170b796a-15cf-43f3-8a4b-09e21e178f3f"
      },
      "execution_count": null,
      "outputs": [
        {
          "output_type": "stream",
          "name": "stdout",
          "text": [
            "5 \n",
            "1 2 6 5 6\n",
            "5\n"
          ]
        }
      ]
    },
    {
      "cell_type": "code",
      "source": [
        "n = 5\n",
        "a = map(int, input().split())\n",
        "list(a).sort()\n",
        "b,a = set(a),list(b)\n",
        "a[-2]"
      ],
      "metadata": {
        "id": "f-TuUr2Hl3jt",
        "colab": {
          "base_uri": "https://localhost:8080/"
        },
        "outputId": "1485738b-89f8-482b-d740-e190a98f33eb"
      },
      "execution_count": null,
      "outputs": [
        {
          "name": "stdout",
          "output_type": "stream",
          "text": [
            "1 2 6 5 6\n"
          ]
        },
        {
          "output_type": "execute_result",
          "data": {
            "text/plain": [
              "5"
            ]
          },
          "metadata": {},
          "execution_count": 125
        }
      ]
    },
    {
      "cell_type": "markdown",
      "source": [
        "# You are given a string and your task is to swap cases. In other words, convert all lowercase letters to uppercase letters and vice versa.\n",
        "\n",
        "For Example:\n",
        "\n",
        "Www.HackerRank.com → wWW.hACKERrANK.COM\n",
        "Pythonist 2 → pYTHONIST 2  \n",
        "Function Description\n",
        "\n",
        "Complete the swap_case function in the editor below.\n",
        "\n",
        "swap_case has the following parameters:\n",
        "\n",
        "string s: the string to modify\n",
        "Returns\n",
        "\n",
        "string: the modified string\n",
        "Input Format\n",
        "\n",
        "A single line containing a string .\n",
        "\n",
        "Constraints\n",
        "\n",
        "\n",
        "Sample Input 0\n",
        "\n",
        "HackerRank.com presents \"Pythonist 2\".\n",
        "Sample Output 0\n",
        "\n",
        "hACKERrANK.COM PRESENTS \"pYTHONIST 2\"."
      ],
      "metadata": {
        "id": "1rscYdpraxNN"
      }
    },
    {
      "cell_type": "code",
      "source": [
        "str = \"HackerRank.com presents 'Pythonist 2'\"\n",
        "str.islower()"
      ],
      "metadata": {
        "id": "eyuouU6hl3lA",
        "colab": {
          "base_uri": "https://localhost:8080/"
        },
        "outputId": "2c4b15f1-5980-4b9c-9edb-610563091231"
      },
      "execution_count": null,
      "outputs": [
        {
          "output_type": "execute_result",
          "data": {
            "text/plain": [
              "False"
            ]
          },
          "metadata": {},
          "execution_count": 170
        }
      ]
    },
    {
      "cell_type": "code",
      "source": [
        "def swap(s):\n",
        "  string = \"\"\n",
        "  for i in s:\n",
        "    if i.islower():\n",
        "      i = i.upper()\n",
        "      string+=i\n",
        "    elif i.isupper():\n",
        "      i=i.lower()\n",
        "      string+=i\n",
        "    else:\n",
        "      string+=i\n",
        "  return string\n",
        "\n",
        "s=\"HackerRank.com presents 'Pythonist 2'\"\n",
        "swap(s)\n"
      ],
      "metadata": {
        "id": "rJhPqgzyl3mZ",
        "colab": {
          "base_uri": "https://localhost:8080/",
          "height": 35
        },
        "outputId": "4faf8426-d5e1-4903-80d6-cc26c12cebd3"
      },
      "execution_count": null,
      "outputs": [
        {
          "output_type": "execute_result",
          "data": {
            "text/plain": [
              "\"hACKERrANK.COM PRESENTS 'pYTHONIST 2'\""
            ],
            "application/vnd.google.colaboratory.intrinsic+json": {
              "type": "string"
            }
          },
          "metadata": {},
          "execution_count": 175
        }
      ]
    },
    {
      "cell_type": "markdown",
      "source": [
        "# Task\n",
        "The provided code stub reads two integers from STDIN,  and . Add code to print three lines where:\n",
        "\n",
        "The first line contains the sum of the two numbers.\n",
        "The second line contains the difference of the two numbers (first - second).\n",
        "The third line contains the product of the two numbers.\n",
        "Example\n",
        "\n",
        "\n",
        "Print the following:\n",
        "\n",
        "8\n",
        "-2\n",
        "15\n",
        "Input Format\n",
        "\n",
        "The first line contains the first integer, .\n",
        "The second line contains the second integer, .\n",
        "\n",
        "Constraints\n",
        "\n",
        "\n",
        "\n",
        "Output Format\n",
        "\n",
        "Print the three lines as explained above.\n",
        "\n",
        "Sample Input 0\n",
        "\n",
        "3\n",
        "2\n",
        "Sample Output 0\n",
        "\n",
        "5\n",
        "1\n",
        "6"
      ],
      "metadata": {
        "id": "s8k_yVaa0H0l"
      }
    },
    {
      "cell_type": "code",
      "source": [
        "if __name__ == '__main__':\n",
        "    a = int(input())\n",
        "    b = int(input())\n",
        "    print(a+b)\n",
        "    print(a-b)\n",
        "    print(a*b)"
      ],
      "metadata": {
        "id": "bJ2EQxzvl3n-",
        "colab": {
          "base_uri": "https://localhost:8080/"
        },
        "outputId": "fd145c2a-dfe6-4cec-feb6-5c17b8184551"
      },
      "execution_count": null,
      "outputs": [
        {
          "output_type": "stream",
          "name": "stdout",
          "text": [
            "3\n",
            "5\n",
            "8\n",
            "-2\n",
            "15\n"
          ]
        }
      ]
    },
    {
      "cell_type": "markdown",
      "source": [
        "# Task\n",
        "The provided code stub reads two integers,  and , from STDIN.\n",
        "\n",
        "Add logic to print two lines. The first line should contain the result of integer division,  // . The second line should contain the result of float division,  / .\n",
        "\n",
        "No rounding or formatting is necessary.\n",
        "\n",
        "Example\n",
        "\n",
        "\n",
        "The result of the integer division .\n",
        "The result of the float division is .\n",
        "Print:\n",
        "\n",
        "0\n",
        "0.6\n",
        "Input Format\n",
        "\n",
        "The first line contains the first integer, .\n",
        "The second line contains the second integer, .\n",
        "\n",
        "Output Format\n",
        "\n",
        "Print the two lines as described above.\n",
        "\n",
        "Sample Input 0\n",
        "\n",
        "4\n",
        "3\n",
        "Sample Output 0\n",
        "\n",
        "1\n",
        "1.33333333333"
      ],
      "metadata": {
        "id": "4UGQ5VOz0_Cm"
      }
    },
    {
      "cell_type": "code",
      "source": [
        "if __name__ == '__main__':\n",
        "    a = int(input())\n",
        "    b = int(input())\n",
        "    print(a//b)\n",
        "    print(a/b)"
      ],
      "metadata": {
        "id": "xVNR-3Wal3pc",
        "colab": {
          "base_uri": "https://localhost:8080/"
        },
        "outputId": "3f3a21bb-48e6-4fc2-95d6-dade2db5465b"
      },
      "execution_count": null,
      "outputs": [
        {
          "output_type": "stream",
          "name": "stdout",
          "text": [
            "3\n",
            "5\n",
            "0\n",
            "0.6\n"
          ]
        }
      ]
    },
    {
      "cell_type": "markdown",
      "source": [
        "# Given the names and grades for each student in a class of  students, store them in a nested list and print the name(s) of any student(s) having the second lowest grade.\n",
        "\n",
        "Note: If there are multiple students with the second lowest grade, order their names alphabetically and print each name on a new line.\n",
        "\n",
        "Example\n",
        "\n",
        "The ordered list of scores is , so the second lowest score is . There are two students with that score: . Ordered alphabetically, the names are printed as:\n",
        "\n",
        "alpha\n",
        "beta\n",
        "Input Format\n",
        "\n",
        "The first line contains an integer, , the number of students.\n",
        "The  subsequent lines describe each student over  lines.\n",
        "- The first line contains a student's name.\n",
        "- The second line contains their grade.\n",
        "\n",
        "Constraints\n",
        "\n",
        "There will always be one or more students having the second lowest grade.\n",
        "Output Format\n",
        "\n",
        "Print the name(s) of any student(s) having the second lowest grade in. If there are multiple students, order their names alphabetically and print each one on a new line.\n",
        "\n",
        "Sample Input 0\n",
        "\n",
        "5\n",
        "Harry\n",
        "37.21\n",
        "Berry\n",
        "37.21\n",
        "Tina\n",
        "37.2\n",
        "Akriti\n",
        "41\n",
        "Harsh\n",
        "39\n",
        "Sample Output 0\n",
        "\n",
        "Berry\n",
        "Harry\n",
        "Explanation 0\n",
        "\n",
        "There are  students in this class whose names and grades are assembled to build the following list:\n",
        "\n",
        "python students = [['Harry', 37.21], ['Berry', 37.21], ['Tina', 37.2], ['Akriti', 41], ['Harsh', 39]]\n",
        "\n",
        "The lowest grade of  belongs to Tina. The second lowest grade of  belongs to both Harry and Berry, so we order their names alphabetically and print each name on a new line."
      ],
      "metadata": {
        "id": "NfGQJvKE1xVW"
      }
    },
    {
      "cell_type": "code",
      "source": [
        "for i in range(int(input())):\n",
        "  studentss= []\n",
        "  names = input()\n",
        "  scores = float(input())\n",
        "python_students = [[['Harry', 37.21], ['Berry', 37.21], ['Tina', 37.2], ['Akriti', 41], ['Harsh', 39]]]\n",
        "python_students.sort()\n",
        "for i in python_students:\n",
        "  print(i[1])"
      ],
      "metadata": {
        "id": "iJSEKHnTl3wk",
        "colab": {
          "base_uri": "https://localhost:8080/"
        },
        "outputId": "a94e447b-b10d-46ae-956c-41db3b82e6fb"
      },
      "execution_count": null,
      "outputs": [
        {
          "output_type": "stream",
          "name": "stdout",
          "text": [
            "41\n",
            "37.21\n",
            "37.21\n",
            "39\n",
            "37.2\n"
          ]
        }
      ]
    },
    {
      "cell_type": "code",
      "source": [
        "\n",
        "  \n"
      ],
      "metadata": {
        "id": "jS7eZyerl3yF"
      },
      "execution_count": null,
      "outputs": []
    },
    {
      "cell_type": "code",
      "source": [
        "if __name__ == '__main__':\n",
        "    n = int(input())\n",
        "    lis = []\n",
        "    name_lis = []\n",
        "    score_lis = []\n",
        "    for _ in range(n):\n",
        "      name = input()\n",
        "      score = float(input())\n",
        "      score_lis.append(score)\n",
        "      lis.append([name,score])  \n",
        "    \n",
        "    #sec_score = sorted(score_lis)[1]\n",
        "    s_score = list(sorted(score_lis))[1]\n",
        "    for i in range(len(lis)):\n",
        "      if sorted(lis)[i][1] == s_score:\n",
        "        print(sorted(lis)[i][0])\n"
      ],
      "metadata": {
        "id": "jmGU6a7Wl3zm",
        "colab": {
          "base_uri": "https://localhost:8080/"
        },
        "outputId": "7ceaf641-016c-4d88-af24-7b17bbe17205"
      },
      "execution_count": null,
      "outputs": [
        {
          "output_type": "stream",
          "name": "stdout",
          "text": [
            "3\n",
            "s\n",
            "2\n",
            "d\n",
            "1\n",
            "w\n",
            "2\n",
            "s\n",
            "w\n"
          ]
        }
      ]
    },
    {
      "cell_type": "markdown",
      "source": [
        "# Task\n",
        "Given an integer, , perform the following conditional actions:\n",
        "\n",
        "If  is odd, print Weird\n",
        "If  is even and in the inclusive range of  to , print Not Weird\n",
        "If  is even and in the inclusive range of  to , print Weird\n",
        "If  is even and greater than , print Not Weird\n",
        "Input Format\n",
        "\n",
        "A single line containing a positive integer, .\n",
        "\n",
        "Constraints\n",
        "\n",
        "Output Format\n",
        "\n",
        "Print Weird if the number is weird. Otherwise, print Not Weird.\n",
        "\n",
        "Sample Input 0\n",
        "\n",
        "3\n",
        "Sample Output 0\n",
        "\n",
        "Weird\n",
        "Explanation 0\n",
        "\n",
        "\n",
        " is odd and odd numbers are weird, so print Weird.\n",
        "\n",
        "Sample Input 1\n",
        "\n",
        "24\n",
        "Sample Output 1\n",
        "\n",
        "Not Weird\n",
        "Explanation 1\n",
        "\n",
        "\n",
        " and  is even, so it is not weird."
      ],
      "metadata": {
        "id": "aUOjcLu2W-xm"
      }
    },
    {
      "cell_type": "code",
      "source": [
        "N = int(input())\n",
        "if N % 2 != 0:\n",
        "    print (\"Weird\")\n",
        "else:\n",
        "    if N >= 2 and N <= 5:\n",
        "        print (\"Not Weird\")\n",
        "    elif N >= 6 and N <=20:\n",
        "        print (\"Weird\")\n",
        "    elif N >20:\n",
        "        print (\"Not Weird\")"
      ],
      "metadata": {
        "id": "H0W-A0FMl32f",
        "colab": {
          "base_uri": "https://localhost:8080/"
        },
        "outputId": "165852db-2e23-42cf-ec1c-26a38378069c"
      },
      "execution_count": null,
      "outputs": [
        {
          "output_type": "stream",
          "name": "stdout",
          "text": [
            "32\n",
            "Not Weird\n"
          ]
        }
      ]
    },
    {
      "cell_type": "markdown",
      "source": [
        "# Task\n",
        "The provided code stub reads and integer, , from STDIN. For all non-negative integers , print .\n",
        "\n",
        "Example\n",
        "\n",
        "The list of non-negative integers that are less than  is . Print the square of each number on a separate line.\n",
        "\n",
        "0\n",
        "1\n",
        "4\n",
        "Input Format\n",
        "\n",
        "The first and only line contains the integer, .\n",
        "\n",
        "Constraints\n",
        "\n",
        "\n",
        "Output Format\n",
        "\n",
        "Print  lines, one corresponding to each .\n",
        "\n",
        "Sample Input 0\n",
        "\n",
        "5\n",
        "Sample Output 0\n",
        "\n",
        "0\n",
        "1\n",
        "4\n",
        "9\n",
        "16\n"
      ],
      "metadata": {
        "id": "k8vXlYB_dcTT"
      }
    },
    {
      "cell_type": "code",
      "source": [
        "n= 3\n",
        "lis = [0]\n",
        "for i in range(n):\n",
        "  print(i**2)"
      ],
      "metadata": {
        "id": "w3-z4MgXl34P",
        "colab": {
          "base_uri": "https://localhost:8080/"
        },
        "outputId": "95eddcd5-3b22-4bf9-8d1e-8c091e41c592"
      },
      "execution_count": null,
      "outputs": [
        {
          "output_type": "stream",
          "name": "stdout",
          "text": [
            "0\n",
            "1\n",
            "4\n"
          ]
        }
      ]
    },
    {
      "cell_type": "markdown",
      "source": [
        "# An extra day is added to the calendar almost every four years as February 29, and the day is called a leap day. It corrects the calendar for the fact that our planet takes approximately 365.25 days to orbit the sun. A leap year contains a leap day.\n",
        "\n",
        "In the Gregorian calendar, three conditions are used to identify leap years:\n",
        "\n",
        "The year can be evenly divided by 4, is a leap year, unless:\n",
        "The year can be evenly divided by 100, it is NOT a leap year, unless:\n",
        "The year is also evenly divisible by 400. Then it is a leap year.\n",
        "This means that in the Gregorian calendar, the years 2000 and 2400 are leap years, while 1800, 1900, 2100, 2200, 2300 and 2500 are NOT leap years. Source\n",
        "\n",
        "Task\n",
        "\n",
        "Given a year, determine whether it is a leap year. If it is a leap year, return the Boolean True, otherwise return False.\n",
        "\n",
        "Note that the code stub provided reads from STDIN and passes arguments to the is_leap function. It is only necessary to complete the is_leap function.\n",
        "\n",
        "Input Format\n",
        "\n",
        "Read , the year to test.\n",
        "\n",
        "Constraints\n",
        "\n",
        "\n",
        "Output Format\n",
        "\n",
        "The function must return a Boolean value (True/False). Output is handled by the provided code stub.\n",
        "\n",
        "Sample Input 0\n",
        "\n",
        "1990\n",
        "Sample Output 0\n",
        "\n",
        "False\n",
        "Explanation 0\n",
        "\n",
        "1990 is not a multiple of 4 hence it's not a leap year."
      ],
      "metadata": {
        "id": "t6FVh6eVf1Ac"
      }
    },
    {
      "cell_type": "code",
      "source": [
        "def is_leap(year):\n",
        "    leap = False\n",
        "    \n",
        "    if year%4==0 and year%100 ==0 and year%400==0:\n",
        "      return False\n",
        "    elif year==2100:\n",
        "      return False\n",
        "    elif year%4==0 :\n",
        "      return True\n",
        "    elif year%400==0:\n",
        "      return True\n",
        "    else :\n",
        "      return leap\n",
        "\n",
        "year = int(input())\n",
        "print(is_leap(year))"
      ],
      "metadata": {
        "id": "bLh3aGF9l35Z",
        "colab": {
          "base_uri": "https://localhost:8080/"
        },
        "outputId": "e6143bee-96a2-4135-dc46-44bcb4e11b46"
      },
      "execution_count": null,
      "outputs": [
        {
          "output_type": "stream",
          "name": "stdout",
          "text": [
            "2100\n",
            "False\n"
          ]
        }
      ]
    },
    {
      "cell_type": "markdown",
      "source": [
        "# In this challenge, the user enters a string and a substring. You have to print the number of times that the substring occurs in the given string. String traversal will take place from left to right, not from right to left.\n",
        "\n",
        "NOTE: String letters are case-sensitive.\n",
        "\n",
        "Input Format\n",
        "\n",
        "The first line of input contains the original string. The next line contains the substring.\n",
        "\n",
        "Constraints\n",
        "\n",
        "\n",
        "Each character in the string is an ascii character.\n",
        "\n",
        "Output Format\n",
        "\n",
        "Output the integer number indicating the total number of occurrences of the substring in the original string.\n",
        "\n",
        "Sample Input\n",
        "\n",
        "ABCDCDC\n",
        "CDC\n",
        "Sample Output\n",
        "\n",
        "2\n",
        "Concept\n",
        "\n",
        "Some string processing examples, such as these, might be useful.\n",
        "There are a couple of new concepts:\n",
        "In Python, the length of a string is found by the function len(s), where  is the string.\n",
        "To traverse through the length of a string, use a for loop:\n",
        "\n",
        "for i in range(0, len(s)):\n",
        "    print (s[i])\n",
        "A range function is used to loop over some length:\n",
        "\n",
        "range (0, 5)\n",
        "Here, the range loops over  to .  is excluded.\n",
        "\n",
        "Language\n",
        "Python 3\n",
        "\n",
        "\n",
        "More\n",
        "1234\n"
      ],
      "metadata": {
        "id": "_L-kWTDtoEcd"
      }
    },
    {
      "cell_type": "code",
      "source": [
        "def count_substring(string, sub_string):\n",
        "    s = len(string)\n",
        "    sub =len(sub_string)\n",
        "    c = 0\n",
        "    for i in range(s-sub+1):\n",
        "        if string[i:i+sub]==sub_string:\n",
        "            c=c+1\n",
        "    return c  \n",
        "\n",
        "\n",
        "if __name__ == '__main__':\n",
        "    string = input().strip()\n",
        "    sub_string = input().strip()\n",
        "    \n",
        "    count = count_substring(string, sub_string)\n",
        "    print(count)"
      ],
      "metadata": {
        "id": "k1nHNIeEl36_",
        "colab": {
          "base_uri": "https://localhost:8080/"
        },
        "outputId": "65f8a955-bba9-4175-aed2-726c46610f4c"
      },
      "execution_count": 22,
      "outputs": [
        {
          "output_type": "stream",
          "name": "stdout",
          "text": [
            "ABCDCDC\n",
            "CDC\n",
            "2\n"
          ]
        }
      ]
    },
    {
      "cell_type": "markdown",
      "source": [
        "# Consider a list (list = []). You can perform the following commands:\n",
        "\n",
        "insert i e: Insert integer  at position .\n",
        "print: Print the list.\n",
        "remove e: Delete the first occurrence of integer .\n",
        "append e: Insert integer  at the end of the list.\n",
        "sort: Sort the list.\n",
        "pop: Pop the last element from the list.\n",
        "reverse: Reverse the list.\n",
        "Initialize your list and read in the value of  followed by  lines of commands where each command will be of the  types listed above. Iterate through each command in order and perform the corresponding operation on your list.\n",
        "\n",
        "Example\n",
        "\n",
        "\n",
        "\n",
        "\n",
        "\n",
        ": Append  to the list, .\n",
        ": Append  to the list, .\n",
        ": Insert  at index , .\n",
        ": Print the array.\n",
        "Output:\n",
        "[1, 3, 2]\n",
        "Input Format\n",
        "\n",
        "The first line contains an integer, , denoting the number of commands.\n",
        "Each line  of the  subsequent lines contains one of the commands described above.\n",
        "\n",
        "Constraints\n",
        "\n",
        "The elements added to the list must be integers.\n",
        "Output Format\n",
        "\n",
        "For each command of type print, print the list on a new line.\n",
        "\n",
        "Sample Input 0\n",
        "\n",
        "12\n",
        "insert 0 5\n",
        "insert 1 10\n",
        "insert 0 6\n",
        "print\n",
        "remove 6\n",
        "append 9\n",
        "append 1\n",
        "sort\n",
        "print\n",
        "pop\n",
        "reverse\n",
        "print\n",
        "Sample Output 0\n",
        "\n",
        "[6, 5, 10]\n",
        "[1, 5, 9, 10]\n",
        "[9, 5, 1]"
      ],
      "metadata": {
        "id": "hNnNqxgcUqXT"
      }
    },
    {
      "cell_type": "code",
      "source": [
        "if __name__ == \"__main__\":\n",
        "    n = int(input())\n",
        "    l = []\n",
        "   \n",
        "    for _ in range(n):\n",
        "        cmd = input().split()\n",
        "        if cmd[0]==\"insert\":\n",
        "            l.insert(int(cmd[1]),int(cmd[2]))\n",
        "        elif cmd[0]==\"print\":\n",
        "            print(l)\n",
        "        elif cmd[0]==\"remove\":\n",
        "            l.remove(int(cmd[1]))\n",
        "        elif cmd[0]==\"append\":\n",
        "            l.append(int(cmd[1]))\n",
        "        elif cmd[0]==\"sort\":\n",
        "            l.sort()\n",
        "        elif cmd[0]==\"pop\":\n",
        "            l.pop()\n",
        "        elif cmd[0]==\"reverse\":\n",
        "            l.reverse()\n",
        "        "
      ],
      "metadata": {
        "id": "7FMss060l38Y",
        "colab": {
          "base_uri": "https://localhost:8080/"
        },
        "outputId": "36d9d500-398f-4d75-ec1d-a84fdf1e94d8"
      },
      "execution_count": 42,
      "outputs": [
        {
          "output_type": "stream",
          "name": "stdout",
          "text": [
            "2\n",
            "insert 3 7\n",
            "print\n",
            "[7]\n"
          ]
        }
      ]
    },
    {
      "cell_type": "code",
      "source": [],
      "metadata": {
        "id": "zNTChkapl4Aa"
      },
      "execution_count": 42,
      "outputs": []
    },
    {
      "cell_type": "code",
      "source": [],
      "metadata": {
        "id": "aGcmdEPKAuLS"
      },
      "execution_count": null,
      "outputs": []
    }
  ],
  "metadata": {
    "colab": {
      "provenance": []
    },
    "kernelspec": {
      "display_name": "Python 3",
      "name": "python3"
    }
  },
  "nbformat": 4,
  "nbformat_minor": 0
}